{
 "cells": [
  {
   "cell_type": "code",
   "execution_count": 63,
   "id": "8883d917",
   "metadata": {
    "scrolled": true
   },
   "outputs": [],
   "source": [
    "#Twitter Sentiment Analysis\n"
    "#!pip install numpy\n",
    "#!pip install pandas\n",
    "#!pip install matplotlib\n",
    "#extreme learning\n",
    "import numpy as np\n",
    "import matplotlib.pyplot as plt\n",
    "import pandas as pd"
   ]
  },
  {
   "cell_type": "code",
   "execution_count": 64,
   "id": "3e757826",
   "metadata": {
    "scrolled": true
   },
   "outputs": [],
   "source": [
    "#Reading the csv file\n",
    "data=pd.read_csv(r\"C:\\Users\\Shreyas\\training.1600000.processed.noemoticon.csv\")"
   ]
  },
  {
   "cell_type": "code",
   "execution_count": 65,
   "id": "adad0ad3",
   "metadata": {},
   "outputs": [],
   "source": [
    "data.columns=['target', 'id', 'date', 'flag', 'user', 'text']"
   ]
  },
  {
   "cell_type": "code",
   "execution_count": 66,
   "id": "946ee646",
   "metadata": {},
   "outputs": [
    {
     "data": {
      "text/html": [
       "<div>\n",
       "<style scoped>\n",
       "    .dataframe tbody tr th:only-of-type {\n",
       "        vertical-align: middle;\n",
       "    }\n",
       "\n",
       "    .dataframe tbody tr th {\n",
       "        vertical-align: top;\n",
       "    }\n",
       "\n",
       "    .dataframe thead th {\n",
       "        text-align: right;\n",
       "    }\n",
       "</style>\n",
       "<table border=\"1\" class=\"dataframe\">\n",
       "  <thead>\n",
       "    <tr style=\"text-align: right;\">\n",
       "      <th></th>\n",
       "      <th>target</th>\n",
       "      <th>id</th>\n",
       "      <th>date</th>\n",
       "      <th>flag</th>\n",
       "      <th>user</th>\n",
       "      <th>text</th>\n",
       "    </tr>\n",
       "  </thead>\n",
       "  <tbody>\n",
       "    <tr>\n",
       "      <th>0</th>\n",
       "      <td>0</td>\n",
       "      <td>1467810672</td>\n",
       "      <td>Mon Apr 06 22:19:49 PDT 2009</td>\n",
       "      <td>NO_QUERY</td>\n",
       "      <td>scotthamilton</td>\n",
       "      <td>is upset that he can't update his Facebook by ...</td>\n",
       "    </tr>\n",
       "    <tr>\n",
       "      <th>1</th>\n",
       "      <td>0</td>\n",
       "      <td>1467810917</td>\n",
       "      <td>Mon Apr 06 22:19:53 PDT 2009</td>\n",
       "      <td>NO_QUERY</td>\n",
       "      <td>mattycus</td>\n",
       "      <td>@Kenichan I dived many times for the ball. Man...</td>\n",
       "    </tr>\n",
       "    <tr>\n",
       "      <th>2</th>\n",
       "      <td>0</td>\n",
       "      <td>1467811184</td>\n",
       "      <td>Mon Apr 06 22:19:57 PDT 2009</td>\n",
       "      <td>NO_QUERY</td>\n",
       "      <td>ElleCTF</td>\n",
       "      <td>my whole body feels itchy and like its on fire</td>\n",
       "    </tr>\n",
       "    <tr>\n",
       "      <th>3</th>\n",
       "      <td>0</td>\n",
       "      <td>1467811193</td>\n",
       "      <td>Mon Apr 06 22:19:57 PDT 2009</td>\n",
       "      <td>NO_QUERY</td>\n",
       "      <td>Karoli</td>\n",
       "      <td>@nationwideclass no, it's not behaving at all....</td>\n",
       "    </tr>\n",
       "    <tr>\n",
       "      <th>4</th>\n",
       "      <td>0</td>\n",
       "      <td>1467811372</td>\n",
       "      <td>Mon Apr 06 22:20:00 PDT 2009</td>\n",
       "      <td>NO_QUERY</td>\n",
       "      <td>joy_wolf</td>\n",
       "      <td>@Kwesidei not the whole crew</td>\n",
       "    </tr>\n",
       "  </tbody>\n",
       "</table>\n",
       "</div>"
      ],
      "text/plain": [
       "   target          id                          date      flag           user  \\\n",
       "0       0  1467810672  Mon Apr 06 22:19:49 PDT 2009  NO_QUERY  scotthamilton   \n",
       "1       0  1467810917  Mon Apr 06 22:19:53 PDT 2009  NO_QUERY       mattycus   \n",
       "2       0  1467811184  Mon Apr 06 22:19:57 PDT 2009  NO_QUERY        ElleCTF   \n",
       "3       0  1467811193  Mon Apr 06 22:19:57 PDT 2009  NO_QUERY         Karoli   \n",
       "4       0  1467811372  Mon Apr 06 22:20:00 PDT 2009  NO_QUERY       joy_wolf   \n",
       "\n",
       "                                                text  \n",
       "0  is upset that he can't update his Facebook by ...  \n",
       "1  @Kenichan I dived many times for the ball. Man...  \n",
       "2    my whole body feels itchy and like its on fire   \n",
       "3  @nationwideclass no, it's not behaving at all....  \n",
       "4                      @Kwesidei not the whole crew   "
      ]
     },
     "execution_count": 66,
     "metadata": {},
     "output_type": "execute_result"
    }
   ],
   "source": [
    "data.head()"
   ]
  },
  {
   "cell_type": "code",
   "execution_count": 67,
   "id": "fefdb7be",
   "metadata": {
    "scrolled": true
   },
   "outputs": [
    {
     "data": {
      "text/html": [
       "<div>\n",
       "<style scoped>\n",
       "    .dataframe tbody tr th:only-of-type {\n",
       "        vertical-align: middle;\n",
       "    }\n",
       "\n",
       "    .dataframe tbody tr th {\n",
       "        vertical-align: top;\n",
       "    }\n",
       "\n",
       "    .dataframe thead th {\n",
       "        text-align: right;\n",
       "    }\n",
       "</style>\n",
       "<table border=\"1\" class=\"dataframe\">\n",
       "  <thead>\n",
       "    <tr style=\"text-align: right;\">\n",
       "      <th></th>\n",
       "      <th>target</th>\n",
       "      <th>id</th>\n",
       "    </tr>\n",
       "  </thead>\n",
       "  <tbody>\n",
       "    <tr>\n",
       "      <th>count</th>\n",
       "      <td>1.599999e+06</td>\n",
       "      <td>1.599999e+06</td>\n",
       "    </tr>\n",
       "    <tr>\n",
       "      <th>mean</th>\n",
       "      <td>2.000001e+00</td>\n",
       "      <td>1.998818e+09</td>\n",
       "    </tr>\n",
       "    <tr>\n",
       "      <th>std</th>\n",
       "      <td>2.000001e+00</td>\n",
       "      <td>1.935757e+08</td>\n",
       "    </tr>\n",
       "    <tr>\n",
       "      <th>min</th>\n",
       "      <td>0.000000e+00</td>\n",
       "      <td>1.467811e+09</td>\n",
       "    </tr>\n",
       "    <tr>\n",
       "      <th>25%</th>\n",
       "      <td>0.000000e+00</td>\n",
       "      <td>1.956916e+09</td>\n",
       "    </tr>\n",
       "    <tr>\n",
       "      <th>50%</th>\n",
       "      <td>4.000000e+00</td>\n",
       "      <td>2.002102e+09</td>\n",
       "    </tr>\n",
       "    <tr>\n",
       "      <th>75%</th>\n",
       "      <td>4.000000e+00</td>\n",
       "      <td>2.177059e+09</td>\n",
       "    </tr>\n",
       "    <tr>\n",
       "      <th>max</th>\n",
       "      <td>4.000000e+00</td>\n",
       "      <td>2.329206e+09</td>\n",
       "    </tr>\n",
       "  </tbody>\n",
       "</table>\n",
       "</div>"
      ],
      "text/plain": [
       "             target            id\n",
       "count  1.599999e+06  1.599999e+06\n",
       "mean   2.000001e+00  1.998818e+09\n",
       "std    2.000001e+00  1.935757e+08\n",
       "min    0.000000e+00  1.467811e+09\n",
       "25%    0.000000e+00  1.956916e+09\n",
       "50%    4.000000e+00  2.002102e+09\n",
       "75%    4.000000e+00  2.177059e+09\n",
       "max    4.000000e+00  2.329206e+09"
      ]
     },
     "execution_count": 67,
     "metadata": {},
     "output_type": "execute_result"
    }
   ],
   "source": [
    "data.describe()"
   ]
  },
  {
   "cell_type": "code",
   "execution_count": 68,
   "id": "31d334eb",
   "metadata": {},
   "outputs": [
    {
     "name": "stdout",
     "output_type": "stream",
     "text": [
      "<class 'pandas.core.frame.DataFrame'>\n",
      "RangeIndex: 1599999 entries, 0 to 1599998\n",
      "Data columns (total 6 columns):\n",
      " #   Column  Non-Null Count    Dtype \n",
      "---  ------  --------------    ----- \n",
      " 0   target  1599999 non-null  int64 \n",
      " 1   id      1599999 non-null  int64 \n",
      " 2   date    1599999 non-null  object\n",
      " 3   flag    1599999 non-null  object\n",
      " 4   user    1599999 non-null  object\n",
      " 5   text    1599999 non-null  object\n",
      "dtypes: int64(2), object(4)\n",
      "memory usage: 73.2+ MB\n"
     ]
    }
   ],
   "source": [
    "data.info()"
   ]
  },
  {
   "cell_type": "code",
   "execution_count": 69,
   "id": "447d96ee",
   "metadata": {},
   "outputs": [
    {
     "data": {
      "text/html": [
       "<div>\n",
       "<style scoped>\n",
       "    .dataframe tbody tr th:only-of-type {\n",
       "        vertical-align: middle;\n",
       "    }\n",
       "\n",
       "    .dataframe tbody tr th {\n",
       "        vertical-align: top;\n",
       "    }\n",
       "\n",
       "    .dataframe thead th {\n",
       "        text-align: right;\n",
       "    }\n",
       "</style>\n",
       "<table border=\"1\" class=\"dataframe\">\n",
       "  <thead>\n",
       "    <tr style=\"text-align: right;\">\n",
       "      <th></th>\n",
       "      <th>target</th>\n",
       "      <th>id</th>\n",
       "    </tr>\n",
       "  </thead>\n",
       "  <tbody>\n",
       "    <tr>\n",
       "      <th>target</th>\n",
       "      <td>1.000000</td>\n",
       "      <td>-0.261604</td>\n",
       "    </tr>\n",
       "    <tr>\n",
       "      <th>id</th>\n",
       "      <td>-0.261604</td>\n",
       "      <td>1.000000</td>\n",
       "    </tr>\n",
       "  </tbody>\n",
       "</table>\n",
       "</div>"
      ],
      "text/plain": [
       "          target        id\n",
       "target  1.000000 -0.261604\n",
       "id     -0.261604  1.000000"
      ]
     },
     "execution_count": 69,
     "metadata": {},
     "output_type": "execute_result"
    }
   ],
   "source": [
    "data.corr()"
   ]
  },
  {
   "cell_type": "code",
   "execution_count": 70,
   "id": "9c3ad2d7",
   "metadata": {},
   "outputs": [
    {
     "data": {
      "text/plain": [
       "<seaborn.axisgrid.PairGrid at 0x1f1d81abdc0>"
      ]
     },
     "execution_count": 70,
     "metadata": {},
     "output_type": "execute_result"
    },
    {
     "data": {
      "image/png": "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\n",
      "text/plain": [
       "<Figure size 360x360 with 6 Axes>"
      ]
     },
     "metadata": {
      "needs_background": "light"
     },
     "output_type": "display_data"
    }
   ],
   "source": [
    "#!pip install seaborn\n",
    "import seaborn as sns\n",
    "sns.pairplot(data)"
   ]
  },
  {
   "cell_type": "code",
   "execution_count": 71,
   "id": "884b5523",
   "metadata": {},
   "outputs": [
    {
     "data": {
      "text/plain": [
       "0"
      ]
     },
     "execution_count": 71,
     "metadata": {},
     "output_type": "execute_result"
    }
   ],
   "source": [
    "#Checking for null values in the dataset\n",
    "np.sum(data.isnull().any(axis=1))"
   ]
  },
  {
   "cell_type": "code",
   "execution_count": 72,
   "id": "7913b698",
   "metadata": {},
   "outputs": [],
   "source": [
    "#Now we will clean the data. \n",
    "#We will remove the stopwords, URLs, emails, punctuations, numbers present in the text to simplify our task of classifying the \n",
    "#text into positive or negative sentiment"
   ]
  },
  {
   "cell_type": "code",
   "execution_count": 73,
   "id": "11a21221",
   "metadata": {},
   "outputs": [],
   "source": [
    "#First we take the most important attributes of the dataset alone and work with them.\n",
    "data=data[['text','target']]"
   ]
  },
  {
   "cell_type": "code",
   "execution_count": 74,
   "id": "50a1d587",
   "metadata": {},
   "outputs": [
    {
     "name": "stderr",
     "output_type": "stream",
     "text": [
      "<ipython-input-74-8eb66b4a6a96>:2: SettingWithCopyWarning: \n",
      "A value is trying to be set on a copy of a slice from a DataFrame\n",
      "\n",
      "See the caveats in the documentation: https://pandas.pydata.org/pandas-docs/stable/user_guide/indexing.html#returning-a-view-versus-a-copy\n",
      "  data['target'][data['target']==4]=1\n",
      "C:\\Users\\Shreyas\\AppData\\Local\\Packages\\PythonSoftwareFoundation.Python.3.9_qbz5n2kfra8p0\\LocalCache\\local-packages\\Python39\\site-packages\\pandas\\core\\series.py:992: SettingWithCopyWarning: \n",
      "A value is trying to be set on a copy of a slice from a DataFrame\n",
      "\n",
      "See the caveats in the documentation: https://pandas.pydata.org/pandas-docs/stable/user_guide/indexing.html#returning-a-view-versus-a-copy\n",
      "  self._where(~key, value, inplace=True)\n"
     ]
    },
    {
     "data": {
      "text/html": [
       "<div>\n",
       "<style scoped>\n",
       "    .dataframe tbody tr th:only-of-type {\n",
       "        vertical-align: middle;\n",
       "    }\n",
       "\n",
       "    .dataframe tbody tr th {\n",
       "        vertical-align: top;\n",
       "    }\n",
       "\n",
       "    .dataframe thead th {\n",
       "        text-align: right;\n",
       "    }\n",
       "</style>\n",
       "<table border=\"1\" class=\"dataframe\">\n",
       "  <thead>\n",
       "    <tr style=\"text-align: right;\">\n",
       "      <th></th>\n",
       "      <th>text</th>\n",
       "      <th>target</th>\n",
       "    </tr>\n",
       "  </thead>\n",
       "  <tbody>\n",
       "    <tr>\n",
       "      <th>0</th>\n",
       "      <td>is upset that he can't update his Facebook by ...</td>\n",
       "      <td>0</td>\n",
       "    </tr>\n",
       "    <tr>\n",
       "      <th>1</th>\n",
       "      <td>@Kenichan I dived many times for the ball. Man...</td>\n",
       "      <td>0</td>\n",
       "    </tr>\n",
       "    <tr>\n",
       "      <th>2</th>\n",
       "      <td>my whole body feels itchy and like its on fire</td>\n",
       "      <td>0</td>\n",
       "    </tr>\n",
       "    <tr>\n",
       "      <th>3</th>\n",
       "      <td>@nationwideclass no, it's not behaving at all....</td>\n",
       "      <td>0</td>\n",
       "    </tr>\n",
       "    <tr>\n",
       "      <th>4</th>\n",
       "      <td>@Kwesidei not the whole crew</td>\n",
       "      <td>0</td>\n",
       "    </tr>\n",
       "  </tbody>\n",
       "</table>\n",
       "</div>"
      ],
      "text/plain": [
       "                                                text  target\n",
       "0  is upset that he can't update his Facebook by ...       0\n",
       "1  @Kenichan I dived many times for the ball. Man...       0\n",
       "2    my whole body feels itchy and like its on fire        0\n",
       "3  @nationwideclass no, it's not behaving at all....       0\n",
       "4                      @Kwesidei not the whole crew        0"
      ]
     },
     "execution_count": 74,
     "metadata": {},
     "output_type": "execute_result"
    }
   ],
   "source": [
    "#The label for positive data is 4. We are converting it to 1.\n",
    "data['target'][data['target']==4]=1\n",
    "data.head()"
   ]
  },
  {
   "cell_type": "code",
   "execution_count": 79,
   "id": "e93201c1",
   "metadata": {},
   "outputs": [],
   "source": [
    "#Separating positive and negative tweets\n",
    "positive_data=data[data['target'] == 1]\n",
    "negative_data=data[data['target'] == 0]"
   ]
  },
  {
   "cell_type": "code",
   "execution_count": 80,
   "id": "c2114792",
   "metadata": {},
   "outputs": [],
   "source": [
    "#Taking the first 20000 columns of data from positve_data and negative_data respectively to run the machine easily\n",
    "positive_data=positive_data.iloc[:int(10000)]\n",
    "negative_data=negative_data.iloc[:int(10000)]"
   ]
  },
  {
   "cell_type": "code",
   "execution_count": 81,
   "id": "caf4b1ad",
   "metadata": {},
   "outputs": [],
   "source": [
    "#Concatinating the positive and negative data into one file\n",
    "data=pd.concat([positive_data,negative_data])"
   ]
  },
  {
   "cell_type": "code",
   "execution_count": 82,
   "id": "44465b69",
   "metadata": {},
   "outputs": [
    {
     "data": {
      "text/html": [
       "<div>\n",
       "<style scoped>\n",
       "    .dataframe tbody tr th:only-of-type {\n",
       "        vertical-align: middle;\n",
       "    }\n",
       "\n",
       "    .dataframe tbody tr th {\n",
       "        vertical-align: top;\n",
       "    }\n",
       "\n",
       "    .dataframe thead th {\n",
       "        text-align: right;\n",
       "    }\n",
       "</style>\n",
       "<table border=\"1\" class=\"dataframe\">\n",
       "  <thead>\n",
       "    <tr style=\"text-align: right;\">\n",
       "      <th></th>\n",
       "      <th>text</th>\n",
       "      <th>target</th>\n",
       "    </tr>\n",
       "  </thead>\n",
       "  <tbody>\n",
       "    <tr>\n",
       "      <th>799999</th>\n",
       "      <td>i love @health4uandpets u guys r the best!!</td>\n",
       "      <td>1</td>\n",
       "    </tr>\n",
       "    <tr>\n",
       "      <th>800000</th>\n",
       "      <td>im meeting up with one of my besties tonight! ...</td>\n",
       "      <td>1</td>\n",
       "    </tr>\n",
       "    <tr>\n",
       "      <th>800001</th>\n",
       "      <td>@darealsunisakim thanks for the twitter add, s...</td>\n",
       "      <td>1</td>\n",
       "    </tr>\n",
       "    <tr>\n",
       "      <th>800002</th>\n",
       "      <td>being sick can be really cheap when it hurts t...</td>\n",
       "      <td>1</td>\n",
       "    </tr>\n",
       "    <tr>\n",
       "      <th>800003</th>\n",
       "      <td>@lovesbrooklyn2 he has that effect on everyone</td>\n",
       "      <td>1</td>\n",
       "    </tr>\n",
       "  </tbody>\n",
       "</table>\n",
       "</div>"
      ],
      "text/plain": [
       "                                                     text  target\n",
       "799999       i love @health4uandpets u guys r the best!!        1\n",
       "800000  im meeting up with one of my besties tonight! ...       1\n",
       "800001  @darealsunisakim thanks for the twitter add, s...       1\n",
       "800002  being sick can be really cheap when it hurts t...       1\n",
       "800003    @lovesbrooklyn2 he has that effect on everyone        1"
      ]
     },
     "execution_count": 82,
     "metadata": {},
     "output_type": "execute_result"
    }
   ],
   "source": [
    "#Converting the text into lowercase\n",
    "data['text']=data['text'].str.lower()\n",
    "data.head()"
   ]
  },
  {
   "cell_type": "code",
   "execution_count": 83,
   "id": "2df2b8eb",
   "metadata": {},
   "outputs": [
    {
     "name": "stderr",
     "output_type": "stream",
     "text": [
      "[nltk_data] Downloading package stopwords to\n",
      "[nltk_data]     C:\\Users\\Shreyas\\AppData\\Roaming\\nltk_data...\n",
      "[nltk_data]   Package stopwords is already up-to-date!\n"
     ]
    }
   ],
   "source": [
    "#!pip install nltk\n",
    "import nltk\n",
    "nltk.download('stopwords')\n",
    "from nltk.corpus import stopwords"
   ]
  },
  {
   "cell_type": "code",
   "execution_count": 84,
   "id": "e306ddea",
   "metadata": {},
   "outputs": [
    {
     "data": {
      "text/plain": [
       "\"i, me, my, myself, we, our, ours, ourselves, you, you're, you've, you'll, you'd, your, yours, yourself, yourselves, he, him, his, himself, she, she's, her, hers, herself, it, it's, its, itself, they, them, their, theirs, themselves, what, which, who, whom, this, that, that'll, these, those, am, is, are, was, were, be, been, being, have, has, had, having, do, does, did, doing, a, an, the, and, but, if, or, because, as, until, while, of, at, by, for, with, about, against, between, into, through, during, before, after, above, below, to, from, up, down, in, out, on, off, over, under, again, further, then, once, here, there, when, where, why, how, all, any, both, each, few, more, most, other, some, such, no, nor, not, only, own, same, so, than, too, very, s, t, can, will, just, don, don't, should, should've, now, d, ll, m, o, re, ve, y, ain, aren, aren't, couldn, couldn't, didn, didn't, doesn, doesn't, hadn, hadn't, hasn, hasn't, haven, haven't, isn, isn't, ma, mightn, mightn't, mustn, mustn't, needn, needn't, shan, shan't, shouldn, shouldn't, wasn, wasn't, weren, weren't, won, won't, wouldn, wouldn't\""
      ]
     },
     "execution_count": 84,
     "metadata": {},
     "output_type": "execute_result"
    }
   ],
   "source": [
    "#Importing stopwords in english\n",
    "from nltk.corpus import stopwords\n",
    "stopwords_list = stopwords.words('english')\n",
    "\", \".join(stopwords.words('english'))"
   ]
  },
  {
   "cell_type": "code",
   "execution_count": 85,
   "id": "fd467ece",
   "metadata": {},
   "outputs": [
    {
     "data": {
      "text/plain": [
       "799999                love @health4uandpets u guys r best!!\n",
       "800000    im meeting one besties tonight! cant wait!! - ...\n",
       "800001    @darealsunisakim thanks twitter add, sunisa! g...\n",
       "800002    sick really cheap hurts much eat real food plu...\n",
       "800003                      @lovesbrooklyn2 effect everyone\n",
       "Name: text, dtype: object"
      ]
     },
     "execution_count": 85,
     "metadata": {},
     "output_type": "execute_result"
    }
   ],
   "source": [
    "#Removing stopwords from the text\n",
    "STOPWORDS = set(stopwords.words('english'))\n",
    "def cleaning_stopwords(text):\n",
    "    return \" \".join([word for word in str(text).split() if word not in STOPWORDS])\n",
    "data['text'] = data['text'].apply(lambda text: cleaning_stopwords(text))\n",
    "data['text'].head()"
   ]
  },
  {
   "cell_type": "code",
   "execution_count": 86,
   "id": "1f12f371",
   "metadata": {},
   "outputs": [
    {
     "data": {
      "text/plain": [
       "799999                   love health4uandpets u guys r best\n",
       "800000    im meeting one besties tonight cant wait  girl...\n",
       "800001    darealsunisakim thanks twitter add sunisa got ...\n",
       "800002    sick really cheap hurts much eat real food plu...\n",
       "800003                       lovesbrooklyn2 effect everyone\n",
       "Name: text, dtype: object"
      ]
     },
     "execution_count": 86,
     "metadata": {},
     "output_type": "execute_result"
    }
   ],
   "source": [
    "#Removing the punctuations from the text\n",
    "import string\n",
    "punctuations = string.punctuation\n",
    "def cleaning_punctuations(text):\n",
    "    translator = str.maketrans('', '', punctuations)\n",
    "    return text.translate(translator)\n",
    "data['text'] = data['text'].apply(lambda text: cleaning_punctuations(text))\n",
    "data['text'].head()"
   ]
  },
  {
   "cell_type": "code",
   "execution_count": 87,
   "id": "ed78b7f8",
   "metadata": {},
   "outputs": [
    {
     "data": {
      "text/plain": [
       "799999                   love health4uandpets u guys r best\n",
       "800000    im meting one besties tonight cant wait girl talk\n",
       "800001    darealsunisakim thanks twiter ad sunisa got me...\n",
       "800002    sick realy cheap hurts much eat real fod plus ...\n",
       "800003                         lovesbroklyn2 efect everyone\n",
       "Name: text, dtype: object"
      ]
     },
     "execution_count": 87,
     "metadata": {},
     "output_type": "execute_result"
    }
   ],
   "source": [
    "#Removing repeating characters\n",
    "import re\n",
    "def removing_repeating_characters(text):\n",
    "    return re.sub(r'(.)\\1+', r'\\1', text)\n",
    "data['text'] = data['text'].apply(lambda text: removing_repeating_characters(text))\n",
    "data['text'].head()"
   ]
  },
  {
   "cell_type": "code",
   "execution_count": 88,
   "id": "2ee95580",
   "metadata": {},
   "outputs": [
    {
     "data": {
      "text/plain": [
       "799999                   love health4uandpets u guys r best\n",
       "800000    im meting one besties tonight cant wait girl talk\n",
       "800001    darealsunisakim thanks twiter ad sunisa got me...\n",
       "800002    sick realy cheap hurts much eat real fod plus ...\n",
       "800003                         lovesbroklyn2 efect everyone\n",
       "Name: text, dtype: object"
      ]
     },
     "execution_count": 88,
     "metadata": {},
     "output_type": "execute_result"
    }
   ],
   "source": [
    "#Removing the @ symbol present in emails\n",
    "def clean_emails(text):\n",
    "    return re.sub(r'@[^\\s]+',' ',text)\n",
    "data['text'] = data['text'].apply(lambda text: clean_emails(text))\n",
    "data['text'].head()"
   ]
  },
  {
   "cell_type": "code",
   "execution_count": 89,
   "id": "aefe36c1",
   "metadata": {},
   "outputs": [
    {
     "data": {
      "text/plain": [
       "799999                   love health uandpets u guys r best\n",
       "800000    im meting one besties tonight cant wait girl talk\n",
       "800001    darealsunisakim thanks twiter ad sunisa got me...\n",
       "800002    sick realy cheap hurts much eat real fod plus ...\n",
       "800003                         lovesbroklyn  efect everyone\n",
       "Name: text, dtype: object"
      ]
     },
     "execution_count": 89,
     "metadata": {},
     "output_type": "execute_result"
    }
   ],
   "source": [
    "#Removing numbers present in the data\n",
    "def remove_numbers(text):\n",
    "    return re.sub(r'[0-9]',' ',text)\n",
    "data['text'] = data['text'].apply(lambda text: remove_numbers(text))\n",
    "data['text'].head()"
   ]
  },
  {
   "cell_type": "code",
   "execution_count": 90,
   "id": "626620ba",
   "metadata": {},
   "outputs": [
    {
     "data": {
      "text/plain": [
       "799999                   love health uandpets u guys r best\n",
       "800000    im meting one besties tonight cant wait girl talk\n",
       "800001    darealsunisakim thanks twiter ad sunisa got me...\n",
       "800002    sick realy cheap hurts much eat real fod plus ...\n",
       "800003                         lovesbroklyn  efect everyone\n",
       "Name: text, dtype: object"
      ]
     },
     "execution_count": 90,
     "metadata": {},
     "output_type": "execute_result"
    }
   ],
   "source": [
    "#Removing links present in the data\n",
    "def remove_URLs(text):\n",
    "    return re.sub('((www\\.[^\\s]+)|(https?://[^\\s]+))',' ',text)\n",
    "data['text'] = data['text'].apply(lambda text: remove_numbers(text))\n",
    "data['text'].head()"
   ]
  },
  {
   "cell_type": "code",
   "execution_count": 91,
   "id": "17f7654f",
   "metadata": {},
   "outputs": [
    {
     "data": {
      "text/plain": [
       "799999           [love, health, uandpets, u, guys, r, best]\n",
       "800000    [im, meting, one, besties, tonight, cant, wait...\n",
       "800001    [darealsunisakim, thanks, twiter, ad, sunisa, ...\n",
       "800002    [sick, realy, cheap, hurts, much, eat, real, f...\n",
       "800003                      [lovesbroklyn, efect, everyone]\n",
       "Name: text, dtype: object"
      ]
     },
     "execution_count": 91,
     "metadata": {},
     "output_type": "execute_result"
    }
   ],
   "source": [
    "#Converting the text into tokens to make the analysis easier\n",
    "from nltk.tokenize import RegexpTokenizer\n",
    "tokenization =  RegexpTokenizer(r'\\w+')\n",
    "data[\"text\"] = data[\"text\"].astype(str)\n",
    "data['text'] = data['text'].apply(tokenization.tokenize)\n",
    "data['text'].head()"
   ]
  },
  {
   "cell_type": "code",
   "execution_count": 92,
   "id": "7c59cbac",
   "metadata": {},
   "outputs": [
    {
     "data": {
      "text/plain": [
       "799999           [love, health, uandpets, u, guys, r, best]\n",
       "800000    [im, meting, one, besties, tonight, cant, wait...\n",
       "800001    [darealsunisakim, thanks, twiter, ad, sunisa, ...\n",
       "800002    [sick, realy, cheap, hurts, much, eat, real, f...\n",
       "800003                      [lovesbroklyn, efect, everyone]\n",
       "Name: text, dtype: object"
      ]
     },
     "execution_count": 92,
     "metadata": {},
     "output_type": "execute_result"
    }
   ],
   "source": [
    "#Stemming is applied on the words. This process reduces the word to its root form. In stemming the root form of the word\n",
    "# may not be an actual word.\n",
    "stemming = nltk.PorterStemmer()\n",
    "def stemming_text(data):\n",
    "    text = [stemming.stem(word) for word in data]\n",
    "    return data\n",
    "data['text']= data['text'].apply(lambda text: stemming_text(text))\n",
    "data['text'].head()"
   ]
  },
  {
   "cell_type": "code",
   "execution_count": 93,
   "id": "5dcb0c75",
   "metadata": {},
   "outputs": [
    {
     "name": "stderr",
     "output_type": "stream",
     "text": [
      "[nltk_data] Downloading package wordnet to\n",
      "[nltk_data]     C:\\Users\\Shreyas\\AppData\\Roaming\\nltk_data...\n",
      "[nltk_data]   Package wordnet is already up-to-date!\n"
     ]
    },
    {
     "data": {
      "text/plain": [
       "799999           [love, health, uandpets, u, guys, r, best]\n",
       "800000    [im, meting, one, besties, tonight, cant, wait...\n",
       "800001    [darealsunisakim, thanks, twiter, ad, sunisa, ...\n",
       "800002    [sick, realy, cheap, hurts, much, eat, real, f...\n",
       "800003                      [lovesbroklyn, efect, everyone]\n",
       "Name: text, dtype: object"
      ]
     },
     "execution_count": 93,
     "metadata": {},
     "output_type": "execute_result"
    }
   ],
   "source": [
    "#Lemmatization is applied on the words. This process also reduces the word to its root form. But in lemmatization the root \n",
    "#form of the word is an actual word.\n",
    "import nltk\n",
    "nltk.download('wordnet')\n",
    "lemmatizer = nltk.WordNetLemmatizer()\n",
    "def lemmatize_text(data):\n",
    "    text = [lemmatizer.lemmatize(word) for word in data]\n",
    "    return data\n",
    "data['text'] = data['text'].apply(lambda text: lemmatize_text(text))\n",
    "data['text'].head()"
   ]
  },
  {
   "cell_type": "code",
   "execution_count": 94,
   "id": "8e6845d3",
   "metadata": {},
   "outputs": [
    {
     "name": "stdout",
     "output_type": "stream",
     "text": [
      "[[   0    0    0 ...  148  252  106]\n",
      " [   0    0    0 ...   76  216  247]\n",
      " [   0    0    0 ... 2461 1072 2039]\n",
      " ...\n",
      " [   0    0    0 ... 1908  131    6]\n",
      " [   0    0    0 ...    0   95    3]\n",
      " [   0    0    0 ...  183   36    7]]\n"
     ]
    }
   ],
   "source": [
    "# This where the text part of the dataset is converted into a matrix full of int values. This converts the text into a sequence \n",
    "# integers. The max_len depends on the amount of data used for training the model. Suppose if 80% is used for training, then \n",
    "# the max_len will be 80% of total number of columns. After initializing the max_len, we can conert the text into an integer\n",
    "# matrix.\n",
    "#!pip install --upgrade pip\n",
    "#!pip install tensorflow --user\n",
    "from tensorflow.keras.preprocessing.text import Tokenizer\n",
    "from tensorflow.keras.preprocessing import sequence\n",
    "X=data['text']\n",
    "y=data['target']\n",
    "max_len = 16000\n",
    "tokens = Tokenizer(num_words=20000)\n",
    "tokens.fit_on_texts(X)\n",
    "sequences = tokens.texts_to_sequences(X)\n",
    "sequences_matrix = sequence.pad_sequences(sequences,maxlen=max_len)\n",
    "print(sequences_matrix)"
   ]
  },
  {
   "cell_type": "code",
   "execution_count": 30,
   "id": "440d0734",
   "metadata": {},
   "outputs": [],
   "source": [
    "#The next two blocks demonstrate the prediction using ELM"
   ]
  },
  {
   "cell_type": "code",
   "execution_count": 95,
   "id": "40cc087a",
   "metadata": {},
   "outputs": [],
   "source": [
    "# Here we give the definition of the ELM class. The ELM class consists of an initialization function in which we initialize the \n",
    "# weight, bias, number of hidden layers etc. The next function is sigmoid function which is the activation function. The next \n",
    "# function is predict which predicts the test values based on the training values. The last function is the train function which \n",
    "# trains the model.\n",
    "\n",
    "class ELM(object):  \n",
    "    \n",
    "    def __init__(self, inputSize, outputSize, hiddenSize):\n",
    "        self.inputSize = inputSize\n",
    "        self.outputSize = outputSize\n",
    "        self.hiddenSize = hiddenSize       \n",
    "        \n",
    "        self.weight = np.matrix(np.random.uniform(-0.5, 0.5, (self.hiddenSize, self.inputSize)))\n",
    "\n",
    "        self.bias = np.matrix(np.random.uniform(0, 1, (1, self.hiddenSize)))\n",
    "        \n",
    "        self.H = 0\n",
    "        self.beta = 0\n",
    "\n",
    "    def sigmoid(self, x):\n",
    "        return 1 / (1 + np.exp(-1 * x))\n",
    "\n",
    "    def predict(self, X):\n",
    "        X = np.matrix(X)\n",
    "        y = self.sigmoid((X * self.weight.T) + self.bias) * self.beta\n",
    "        return y\n",
    "\n",
    "    def train(self, X, y):\n",
    "\n",
    "        X = np.matrix(X)\n",
    "        y = np.matrix(y)  \n",
    "        self.H = (X.T * self.weight.T) + self.bias\n",
    "        self.H = self.sigmoid(self.H)\n",
    "        \n",
    "        H_moore_penrose = np.linalg.inv(self.H.T * self.H) * self.H.T\n",
    "        self.beta = H_moore_penrose * y\n",
    "        return self.H * self.beta\n",
    "      "
   ]
  },
  {
   "cell_type": "code",
   "execution_count": 98,
   "id": "2cca7b87",
   "metadata": {},
   "outputs": [
    {
     "name": "stderr",
     "output_type": "stream",
     "text": [
      "<ipython-input-95-ebe5d7d739f8>:21: RuntimeWarning: overflow encountered in exp\n",
      "  return 1 / (1 + np.exp(-1 * x))\n"
     ]
    },
    {
     "name": "stdout",
     "output_type": "stream",
     "text": [
      "Accuracy:  0.546\n",
      "Precision:  0.6189151599443672\n",
      "f1 score:  0.32889874353288984\n",
      "Recall score: 0.22395571212883744\n"
     ]
    }
   ],
   "source": [
    "# Here we do a train_test split on the original dataset. Data is passed to the ELM class here. THen the model is trained and\n",
    "# the accuracy_score, precision_score, f1_score, recall_score are calculated based on the predictions.\n",
    "from sklearn.model_selection import train_test_split\n",
    "from sklearn.metrics import accuracy_score, precision_score, f1_score, recall_score\n",
    "\n",
    "X=data['text']\n",
    "y=data['target']\n",
    "\n",
    "elm = ELM(int(sequences_matrix.shape[0]*0.8), 1, 10)\n",
    "\n",
    "X_train, X_test, y_train, y_test = train_test_split(sequences_matrix, y, test_size=0.2)\n",
    "y_train=np.asmatrix(y_train).T\n",
    "\n",
    "elm.train(X_train,y_train)\n",
    "\n",
    "predictions = elm.predict(X_test)\n",
    "predictions = (predictions > 0.5).astype(int)\n",
    "print('Accuracy: ', accuracy_score(y_test, predictions))\n",
    "print('Precision: ', precision_score(y_test, predictions))\n",
    "print('f1 score: ', f1_score(y_test, predictions))\n",
    "print('Recall score:', recall_score(y_test, predictions))"
   ]
  },
  {
   "cell_type": "code",
   "execution_count": 99,
   "id": "78dedd19",
   "metadata": {},
   "outputs": [
    {
     "name": "stdout",
     "output_type": "stream",
     "text": [
      "Confusion Matrix:\n",
      " [[1739  274]\n",
      " [1542  445]]\n"
     ]
    },
    {
     "data": {
      "image/png": "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\n",
      "text/plain": [
       "<Figure size 720x720 with 2 Axes>"
      ]
     },
     "metadata": {
      "needs_background": "light"
     },
     "output_type": "display_data"
    }
   ],
   "source": [
    "#Printing the confusion matrix based on the above predictions.\n",
    "#!pip install mlxtend\n",
    "from sklearn.metrics import confusion_matrix\n",
    "from mlxtend.plotting import plot_confusion_matrix\n",
    "confusionMatrix=confusion_matrix(y_test, predictions)\n",
    "print(\"Confusion Matrix:\\n\", confusionMatrix)\n",
    "\n",
    "fig, ax = plot_confusion_matrix(conf_mat=confusionMatrix,figsize=(10, 10),\n",
    "                                show_absolute=True,\n",
    "                                show_normed=True,\n",
    "                                colorbar=True)\n",
    "plt.show()"
   ]
  },
  {
   "cell_type": "code",
   "execution_count": 100,
   "id": "4fd17d99",
   "metadata": {},
   "outputs": [
    {
     "data": {
      "image/png": "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\n",
      "text/plain": [
       "<Figure size 432x288 with 1 Axes>"
      ]
     },
     "metadata": {
      "needs_background": "light"
     },
     "output_type": "display_data"
    }
   ],
   "source": [
    "#Printing the ROC curve based on the above predictions.\n",
    "from sklearn.metrics import roc_curve, auc\n",
    "fpr, tpr, thresholds = roc_curve(y_test, predictions)\n",
    "roc_auc = auc(fpr, tpr)\n",
    "plt.figure()\n",
    "plt.plot(fpr, tpr, color='darkorange', lw=1, label='ROC curve (area = %0.2f)' % roc_auc)\n",
    "plt.xlim([0.0, 1.0])\n",
    "plt.ylim([0.0, 1.05])\n",
    "plt.xlabel('False Positive Rate')\n",
    "plt.ylabel('True Positive Rate')\n",
    "plt.title('ROC CURVE')\n",
    "plt.legend(loc=\"lower right\")\n",
    "plt.show()"
   ]
  },
  {
   "cell_type": "code",
   "execution_count": null,
   "id": "66341371",
   "metadata": {},
   "outputs": [],
   "source": []
  }
 ],
 "metadata": {
  "kernelspec": {
   "display_name": "Python 3",
   "language": "python",
   "name": "python3"
  },
  "language_info": {
   "codemirror_mode": {
    "name": "ipython",
    "version": 3
   },
   "file_extension": ".py",
   "mimetype": "text/x-python",
   "name": "python",
   "nbconvert_exporter": "python",
   "pygments_lexer": "ipython3",
   "version": "3.9.5"
  }
 },
 "nbformat": 4,
 "nbformat_minor": 5
}
